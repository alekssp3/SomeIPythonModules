{
 "cells": [
  {
   "cell_type": "code",
   "execution_count": 1,
   "metadata": {
    "collapsed": false
   },
   "outputs": [],
   "source": [
    "def test(f, i, o):\n",
    "    if str(f(i)) == o:\n",
    "        print('Pass')\n",
    "    else:\n",
    "        print('Fail\\t=> {} != {}'.format(f(i), o))\n",
    "        \n",
    "def string(param=None):\n",
    "    if param is None:\n",
    "        param = input()\n",
    "    return param"
   ]
  },
  {
   "cell_type": "code",
   "execution_count": 17,
   "metadata": {
    "collapsed": false
   },
   "outputs": [
    {
     "name": "stdout",
     "output_type": "stream",
     "text": [
      "1 \n",
      "2 2 \n",
      "3 3 3 \n",
      "4 4 4 4 \n",
      "5 5 5 5 5 \n",
      "6 6 6 6 6 6 \n",
      "7 7 7 7 7 7 7 \n"
     ]
    }
   ],
   "source": [
    "def get_seq(n):\n",
    "    return '{} '.format(n) * n\n",
    "\n",
    "def seq(n=None):\n",
    "    if n is None:\n",
    "        n = int(input())\n",
    "    count = 0\n",
    "    while count < n:\n",
    "        count += 1\n",
    "        print (get_seq(count))\n",
    "        \n",
    "seq(7)"
   ]
  },
  {
   "cell_type": "code",
   "execution_count": 16,
   "metadata": {
    "collapsed": false
   },
   "outputs": [
    {
     "name": "stdout",
     "output_type": "stream",
     "text": [
      "None\n",
      "[1, 2, 3]\n",
      "[1]\n",
      "[5, 4]\n"
     ]
    }
   ],
   "source": [
    "def modify_list(l):\n",
    "#     _l = len(l)\n",
    "#     i = 0\n",
    "#     while i < _l:\n",
    "    for i in range(len(l)):\n",
    "        t = l.pop(0)\n",
    "        if t % 2 == 0:\n",
    "            l.append(t // 2)\n",
    "        i += 1\n",
    "    \n",
    "lst = [1, 2, 3, 4, 5, 6]\n",
    "print(modify_list(lst))  # None\n",
    "print(lst)               # [1, 2, 3]\n",
    "modify_list(lst)\n",
    "print(lst)               # [1]\n",
    "\n",
    "lst = [10, 5, 8, 3]\n",
    "modify_list(lst)\n",
    "print(lst)               # [5, 4]"
   ]
  },
  {
   "cell_type": "code",
   "execution_count": 3,
   "metadata": {
    "collapsed": false
   },
   "outputs": [
    {
     "name": "stdout",
     "output_type": "stream",
     "text": [
      "kjkjkkkkkkklklksjdfsdjflkjlsdfsdddddd\n",
      "kjkj7klklksjdfsdjflkjlsdfs6d\n",
      "a\n"
     ]
    }
   ],
   "source": [
    "def decode(string=None):\n",
    "    if string is None:\n",
    "        string = input()\n",
    "\n",
    "    block = []\n",
    "    count = []\n",
    "\n",
    "    cur, prev = None, None\n",
    "\n",
    "    for ch in string:\n",
    "        cur = ch\n",
    "        if cur == prev:\n",
    "            count[-1] += 1\n",
    "        else:\n",
    "            block.append(ch)\n",
    "            count.append(1)\n",
    "        prev = cur\n",
    "\n",
    "    decode = ''    \n",
    "\n",
    "    for i, ch in enumerate(block):\n",
    "        if count[i] < 2:\n",
    "            decode += ch\n",
    "        else:\n",
    "            decode += str(count[i]) + ch\n",
    "\n",
    "    return decode\n",
    "\n",
    "print('{}'.format(decode()))\n",
    "print('{}'.format(decode('a')))"
   ]
  },
  {
   "cell_type": "code",
   "execution_count": 16,
   "metadata": {
    "collapsed": false
   },
   "outputs": [
    {
     "name": "stdout",
     "output_type": "stream",
     "text": [
      "-2\n",
      "az\n",
      "Result: \"zx\"\n"
     ]
    }
   ],
   "source": [
    "shift = int(input())\n",
    "string = input().strip()\n",
    "start = 'a'\n",
    "end = 'z'\n",
    "abc = ' '+ ''.join([chr(i) for i in range(ord(start), ord(end) + 1)])\n",
    "out = ''\n",
    "\n",
    "for ch in string:\n",
    "    out += abc[(abc.index(ch)+shift) % len(abc)]\n",
    "    \n",
    "print( 'Result: \"{}\"'.format(out))"
   ]
  },
  {
   "cell_type": "code",
   "execution_count": 3,
   "metadata": {
    "collapsed": false
   },
   "outputs": [
    {
     "ename": "StdinNotImplementedError",
     "evalue": "raw_input was called, but this frontend does not support input requests.",
     "traceback": [
      "\u001b[1;31m---------------------------------------------------------------------------\u001b[0m",
      "\u001b[1;31mStdinNotImplementedError\u001b[0m                  Traceback (most recent call last)",
      "\u001b[1;32m<ipython-input-3-00ff9a6d71a0>\u001b[0m in \u001b[0;36m<module>\u001b[1;34m()\u001b[0m\n\u001b[0;32m      1\u001b[0m \u001b[0mstart\u001b[0m \u001b[1;33m=\u001b[0m \u001b[1;36m0x1f600\u001b[0m\u001b[1;33m\u001b[0m\u001b[0m\n\u001b[0;32m      2\u001b[0m \u001b[0mend\u001b[0m \u001b[1;33m=\u001b[0m \u001b[1;36m0x1f64f\u001b[0m\u001b[1;33m\u001b[0m\u001b[0m\n\u001b[1;32m----> 3\u001b[1;33m \u001b[0mshift\u001b[0m \u001b[1;33m=\u001b[0m \u001b[0mint\u001b[0m\u001b[1;33m(\u001b[0m\u001b[0minput\u001b[0m\u001b[1;33m(\u001b[0m\u001b[1;33m)\u001b[0m\u001b[1;33m)\u001b[0m\u001b[1;33m\u001b[0m\u001b[0m\n\u001b[0m\u001b[0;32m      4\u001b[0m \u001b[0mstring\u001b[0m \u001b[1;33m=\u001b[0m \u001b[0minput\u001b[0m\u001b[1;33m(\u001b[0m\u001b[1;33m)\u001b[0m\u001b[1;33m.\u001b[0m\u001b[0mstrip\u001b[0m\u001b[1;33m(\u001b[0m\u001b[1;33m)\u001b[0m\u001b[1;33m\u001b[0m\u001b[0m\n\u001b[0;32m      5\u001b[0m \u001b[1;33m\u001b[0m\u001b[0m\n",
      "\u001b[1;32mc:\\users\\tg tiger\\appdata\\local\\programs\\python\\python35\\lib\\site-packages\\ipykernel\\kernelbase.py\u001b[0m in \u001b[0;36mraw_input\u001b[1;34m(self, prompt)\u001b[0m\n\u001b[0;32m    682\u001b[0m         \u001b[1;32mif\u001b[0m \u001b[1;32mnot\u001b[0m \u001b[0mself\u001b[0m\u001b[1;33m.\u001b[0m\u001b[0m_allow_stdin\u001b[0m\u001b[1;33m:\u001b[0m\u001b[1;33m\u001b[0m\u001b[0m\n\u001b[0;32m    683\u001b[0m             raise StdinNotImplementedError(\n\u001b[1;32m--> 684\u001b[1;33m                 \u001b[1;34m\"raw_input was called, but this frontend does not support input requests.\"\u001b[0m\u001b[1;33m\u001b[0m\u001b[0m\n\u001b[0m\u001b[0;32m    685\u001b[0m             )\n\u001b[0;32m    686\u001b[0m         return self._input_request(prompt,\n",
      "\u001b[1;31mStdinNotImplementedError\u001b[0m: raw_input was called, but this frontend does not support input requests."
     ],
     "output_type": "error"
    }
   ],
   "source": [
    "start = 0x1f600\n",
    "end = 0x1f64f\n",
    "shift = int(input())\n",
    "string = input().strip()\n",
    "\n",
    "abc = ''.join([chr(i) for i in range(start, end + 1)])\n",
    "out = ''\n",
    "\n",
    "for ch in string:\n",
    "    out += abc[(abc.index(ch)+shift) % len(abc)]\n",
    "    \n",
    "print( 'Result: \"{}\"'.format(out))"
   ]
  },
  {
   "cell_type": "code",
   "execution_count": null,
   "metadata": {},
   "outputs": [],
   "source": [
    ""
   ]
  }
 ],
 "metadata": {
  "kernelspec": {
   "display_name": "Python 3",
   "language": "python",
   "name": "python3"
  },
  "language_info": {
   "codemirror_mode": {
    "name": "ipython",
    "version": 3.0
   },
   "file_extension": ".py",
   "mimetype": "text/x-python",
   "name": "python",
   "nbconvert_exporter": "python",
   "pygments_lexer": "ipython3",
   "version": "3.5.1"
  }
 },
 "nbformat": 4,
 "nbformat_minor": 0
}